{
 "cells": [
  {
   "cell_type": "code",
   "execution_count": 3,
   "id": "acff77bb-8c2b-4303-83ca-e6490fc08caa",
   "metadata": {},
   "outputs": [],
   "source": [
    "# In the name of ALLAH!\n",
    "# Mahdi Salehi"
   ]
  },
  {
   "cell_type": "code",
   "execution_count": 5,
   "id": "b22d069e-7716-4557-a1c7-a2a8a8112ee4",
   "metadata": {},
   "outputs": [],
   "source": [
    "name = \"Mahdi Salehi\""
   ]
  },
  {
   "cell_type": "code",
   "execution_count": 6,
   "id": "b8a34d24-0f54-4065-9e96-24a29ae775af",
   "metadata": {},
   "outputs": [
    {
     "name": "stdout",
     "output_type": "stream",
     "text": [
      "Mahdi Salehi\n"
     ]
    }
   ],
   "source": [
    "print(name)"
   ]
  }
 ],
 "metadata": {
  "kernelspec": {
   "display_name": "Python 3 (ipykernel)",
   "language": "python",
   "name": "python3"
  },
  "language_info": {
   "codemirror_mode": {
    "name": "ipython",
    "version": 3
   },
   "file_extension": ".py",
   "mimetype": "text/x-python",
   "name": "python",
   "nbconvert_exporter": "python",
   "pygments_lexer": "ipython3",
   "version": "3.11.4"
  }
 },
 "nbformat": 4,
 "nbformat_minor": 5
}
